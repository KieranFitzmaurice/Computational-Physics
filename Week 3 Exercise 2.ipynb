{
 "cells": [
  {
   "cell_type": "markdown",
   "metadata": {},
   "source": [
    "Your Name: Kieran Fitzmaurice"
   ]
  },
  {
   "cell_type": "markdown",
   "metadata": {},
   "source": [
    "The file `exoplanets.csv` is a text file that contains orbital and physical parameters for 2950 exoplanets. The file has a header. The first line of the file lists the heading for each column, and the second line lists the units used for each column (if applicable). I suggest opening the file in a text editor to see how it is formatted.\n",
    "\n",
    "Use numpy to load the data from this file into three numpy arrays named after the column they represent:\n",
    "1. MSTAR (the mass of the planet's star)\n",
    "2. A (the semi-major axis of the planet's orbit)\n",
    "3. PER (the period of the planet's orbit)\n",
    "\n",
    "The other columns are unused in this exercise. Be aware that there is missing data in the file, which is annoying to deal with using `numpy.loadtxt()`. Instead, I recommend using `numpy.genfromtxt()`. It has a lot of options, so read the documentation for it."
   ]
  },
  {
   "cell_type": "code",
   "execution_count": 5,
   "metadata": {},
   "outputs": [],
   "source": [
    "#Had issues with numpy.genfromtxt(), so tired pandas.read_csv() to load data instead.\n",
    "#Will come by during office hours to try and get genfromtext working. \n",
    "\n",
    "import numpy as np\n",
    "import pandas as pd\n",
    "data = pd.read_csv(\"/Users/kieranfitzmaurice/Downloads/exoplanets.csv\", quotechar='\"', usecols = (1,2,3),).as_matrix()\n",
    "\n",
    "MSTAR = np.array(data[1:,0])\n",
    "MSTAR = MSTAR.astype(np.float)\n",
    "A = np.array(data[1:,1])\n",
    "A = A.astype(np.float)\n",
    "PER = np.array(data[1:,2])\n",
    "PER = PER.astype(np.float)\n",
    "\n"
   ]
  },
  {
   "cell_type": "markdown",
   "metadata": {},
   "source": [
    "Now that you have the data loaded into arrays, your next task is to verify Kepler's 3rd Law, which says that\n",
    "$$T^2\\propto\\frac{a^3}{M}\\,,$$\n",
    "where $T$ is the period of the orbit, $a$ is the semimajor axis, and $M$ is the mass of the *star*. The proportionality constant is equal to 1 if the units of period are in years, the semi-major axis is in AU (astronomical units), and the mass of the star is in units of solar masses. (In our case, we just need to convert the period from days to years.)\n",
    "\n",
    "Make a scatter plot of $a^3/M$ versus $T$ for values of $T$ less than 10 years. Use a color and symbol other than the defaults.\n",
    "\n",
    "On top of the scatter plot, plot a line with slope 1 and y-intercept 0 (i.e. print the expected relationship), using a black dashed line. Add a legend to your plot, and label the $x$ and $y$-axes appropriately."
   ]
  },
  {
   "cell_type": "code",
   "execution_count": 8,
   "metadata": {},
   "outputs": [
    {
     "name": "stderr",
     "output_type": "stream",
     "text": [
      "/Users/kieranfitzmaurice/anaconda/lib/python3.6/site-packages/ipykernel_launcher.py:15: RuntimeWarning: invalid value encountered in true_divide\n",
      "  from ipykernel import kernelapp as app\n",
      "/Users/kieranfitzmaurice/anaconda/lib/python3.6/site-packages/matplotlib/legend.py:634: UserWarning: Legend does not support 'D' instances.\n",
      "A proxy artist may be used instead.\n",
      "See: http://matplotlib.org/users/legend_guide.html#using-proxy-artist\n",
      "  \"#using-proxy-artist\".format(orig_handle)\n",
      "/Users/kieranfitzmaurice/anaconda/lib/python3.6/site-packages/matplotlib/legend.py:634: UserWarning: Legend does not support 'a' instances.\n",
      "A proxy artist may be used instead.\n",
      "See: http://matplotlib.org/users/legend_guide.html#using-proxy-artist\n",
      "  \"#using-proxy-artist\".format(orig_handle)\n",
      "/Users/kieranfitzmaurice/anaconda/lib/python3.6/site-packages/matplotlib/legend.py:634: UserWarning: Legend does not support 't' instances.\n",
      "A proxy artist may be used instead.\n",
      "See: http://matplotlib.org/users/legend_guide.html#using-proxy-artist\n",
      "  \"#using-proxy-artist\".format(orig_handle)\n"
     ]
    },
    {
     "data": {
      "image/png": "[encoded data removed]",
      "text/plain": [
       "<matplotlib.figure.Figure at 0x11044a2b0>"
      ]
     },
     "metadata": {},
     "output_type": "display_data"
    }
   ],
   "source": [
    "import matplotlib.pyplot as plt\n",
    "\n",
    "PER = PER/365.25\n",
    "\n",
    "for i,elm in enumerate(PER):\n",
    "    if elm > 10:\n",
    "        PER[i] = nan\n",
    "        MSTAR[i] = nan\n",
    "        A[i] = nan\n",
    "        \n",
    "x = np.linspace(0,10,100)\n",
    "y = x\n",
    "\n",
    "x_points = PER**2\n",
    "y_points = A**3/MSTAR\n",
    "\n",
    "plt.plot(x_points,y_points,'b.')\n",
    "plt.plot(x,y,'k--')\n",
    "plt.legend(\"Data\",\"Expected\")\n",
    "plt.show()"
   ]
  },
  {
   "cell_type": "code",
   "execution_count": null,
   "metadata": {
    "collapsed": true
   },
   "outputs": [],
   "source": []
  }
 ],
 "metadata": {
  "kernelspec": {
   "display_name": "Python 3",
   "language": "python",
   "name": "python3"
  },
  "language_info": {
   "codemirror_mode": {
    "name": "ipython",
    "version": 3
   },
   "file_extension": ".py",
   "mimetype": "text/x-python",
   "name": "python",
   "nbconvert_exporter": "python",
   "pygments_lexer": "ipython3",
   "version": "3.6.1"
  }
 },
 "nbformat": 4,
 "nbformat_minor": 2
}
