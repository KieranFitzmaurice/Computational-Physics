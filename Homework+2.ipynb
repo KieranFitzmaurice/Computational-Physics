{
 "cells": [
  {
   "cell_type": "markdown",
   "metadata": {},
   "source": [
    "Your Name: Kieran Fitzmaurice"
   ]
  },
  {
   "cell_type": "markdown",
   "metadata": {},
   "source": [
    "# Catalan Numbers Part 1\n",
    "\n",
    "(Adapted from textbook exercise 2.7)\n",
    "\n",
    "The Catalan numbers $C_n$ are a sequence of integers 1, 1, 2, 5, 14, 42, 132... that play an important role in quantum mechanics and the theory of disordered systems. (They were central to Eugene Wigner's proof of the so-called [semicircle law](https://en.wikipedia.org/wiki/Wigner_semicircle_distribution).)  They are given by \n",
    "\n",
    "$$C_0 = 1,\\qquad C_{n+1} = \\frac{4n+2}{n+2}C_n\\,.$$\n",
    "\n",
    "Write a program that prints in increasing order all Catalan numbers less than or equal to one billion. (Do this without using recursion; see Part 2.)"
   ]
  },
  {
   "cell_type": "code",
   "execution_count": 1,
   "metadata": {},
   "outputs": [
    {
     "name": "stdout",
     "output_type": "stream",
     "text": [
      "1\n",
      "1.0\n",
      "2.0\n",
      "5.0\n",
      "14.0\n",
      "42.0\n",
      "132.0\n",
      "429.0\n",
      "1430.0\n",
      "4862.0\n",
      "16796.0\n",
      "58786.0\n",
      "208012.0\n",
      "742900.0\n",
      "2674440.0\n",
      "9694845.0\n",
      "35357670.0\n",
      "129644790.0\n",
      "477638700.0\n",
      "1767263190.0\n",
      "6564120420.0\n"
     ]
    }
   ],
   "source": [
    "C = 1 #initial value\n",
    "n = 0\n",
    "\n",
    "while(C < 10e9):\n",
    "    print(C)\n",
    "    C = (4*n+2)/(n+2)*C\n",
    "    n = n+1\n"
   ]
  },
  {
   "cell_type": "markdown",
   "metadata": {},
   "source": [
    "# Catalan Numbers Part 2\n",
    "\n",
    "(Adapted from textbook exercise 2.13)\n",
    "\n",
    "A useful feature of user-defined functions is *recursion*, the ability of a function to call itself.  For example, consider the following definition of the factorial $n!$ of a positive integer $n$:\n",
    "\n",
    "$$n! = \\biggl\\lbrace\\begin{array}{ll}\n",
    "  1 & \\qquad\\mbox{if $n=1$,} \\\\\n",
    "  n\\times(n-1)! & \\qquad\\mbox{if $n>1$.}\n",
    "\\end{array}$$\n",
    "\n",
    "This constitutes a complete definition of the factorial which allows us to calculate the value of $n!$ for any positive integer.  We can employ this definition directly to create a Python function for factorials, like this:\n",
    "\n",
    "```\n",
    "def factorial(n):\n",
    "    if n == 1:\n",
    "        return 1\n",
    "    else:\n",
    "        return n*factorial(n-1)\n",
    "```\n",
    "\n",
    "Note how, if $n$ is not equal to 1, the function calls itself to calculate the factorial of $n-1$.  This is recursion.  If we now say `print(factorial(5))` the computer will correctly print the answer 120.\n",
    "\n",
    "We encountered the Catalan numbers $C_n$ in the previous problem. With just a little rearrangement, the definition given there can be rewritten in the form\n",
    "\n",
    "$$C_n = \\Biggl\\lbrace\\begin{array}{ll}\n",
    "  1 & \\qquad\\mbox{if $n=0$,} \\\\\n",
    "  \\dfrac{4n-2}{n+1}C_{n-1} & \\qquad\\mbox{if $n>0$.}\n",
    "\\end{array}$$\n",
    "\n",
    "Write a Python function, using recursion, that calculates $C_n$. Use your function to calculate and print $C_{100}$."
   ]
  },
  {
   "cell_type": "code",
   "execution_count": 2,
   "metadata": {
    "collapsed": true
   },
   "outputs": [],
   "source": [
    "%reset -f \n",
    "#this statement clears previously defined variables"
   ]
  },
  {
   "cell_type": "code",
   "execution_count": 3,
   "metadata": {},
   "outputs": [
    {
     "data": {
      "text/plain": [
       "8.965199470901317e+56"
      ]
     },
     "execution_count": 3,
     "metadata": {},
     "output_type": "execute_result"
    }
   ],
   "source": [
    "def Catalan(n):\n",
    "    if n == 0:\n",
    "        C = 1\n",
    "    else:\n",
    "        C = (4*n-2)/(n+1)*Catalan(n-1)\n",
    "    return C\n",
    "\n",
    "Catalan(100)"
   ]
  },
  {
   "cell_type": "markdown",
   "metadata": {},
   "source": [
    "# The Semi-Empirical Mass Formula\n",
    "\n",
    "(Adapted from textbook exercise 2.10)\n",
    "\n",
    "In nuclear physics, the semi-empirical mass formula is a formula for calculating the approximate nuclear binding energy $B$ of an atomic nucleus with atomic number $Z$ and mass number $A$:\n",
    "\n",
    "$$B = a_1 A - a_2 A^{2/3} - a_3 {Z^2\\over A^{1/3}} - a_4 {(A - 2Z)^2\\over A} + {a_5\\over A^{1/2}}\\,,$$\n",
    "    \n",
    "where, in units of millions of electron volts, the constants are $a_1=15.67$, $a_2=17.23$, $a_3=0.75$, $a_4=93.2$, and\n",
    "\n",
    "$$a_5 = \\Biggl\\lbrace\\begin{array}{ll}\n",
    "      0     &\\quad\\mbox{if $A$ is odd,} \\\\\n",
    "      12.0  &\\quad\\mbox{if $A$ and $Z$ are both even,} \\\\\n",
    "      -12.0 &\\quad\\mbox{if $A$ is even and $Z$ is odd.}\n",
    "      \\end{array}$$\n",
    "      \n",
    "Write a function that takes as its input the values of $A$ and $Z$, and returns the binding energy for the corresponding atom.  Use your function to find the binding energy of an atom with $A=58$ and $Z=28$. (Hint: The correct answer is around $490$ MeV.)"
   ]
  },
  {
   "cell_type": "code",
   "execution_count": 4,
   "metadata": {
    "collapsed": true
   },
   "outputs": [],
   "source": [
    "%reset -f"
   ]
  },
  {
   "cell_type": "code",
   "execution_count": 5,
   "metadata": {},
   "outputs": [
    {
     "data": {
      "text/plain": [
       "497.68708845919554"
      ]
     },
     "execution_count": 5,
     "metadata": {},
     "output_type": "execute_result"
    }
   ],
   "source": [
    "def semi_emp_mass(A,Z):\n",
    "    #coefficients in MeV\n",
    "    a1 = 15.67 \n",
    "    a2 = 17.23\n",
    "    a3 = 0.75\n",
    "    a4 = 93.2\n",
    "    \n",
    "    if A % 2 == 1:   #if A odd\n",
    "        a5 = 0\n",
    "    elif Z % 2 == 0: #if A and Z both even\n",
    "        a5 = 12\n",
    "    else:            #if A even and Z odd\n",
    "        a5 = -12\n",
    "        \n",
    "    #Calculate nuclear binding energy\n",
    "    B = a1*A - a2*A**(2/3) - a3*(Z**2/A**(1/3)) - a4*((A - 2*Z)**2)/A + a5/A**(1/5)\n",
    "    return(B)\n",
    "    \n",
    "semi_emp_mass(58,28)\n",
    "    \n",
    "\n",
    "    \n",
    "    "
   ]
  },
  {
   "cell_type": "markdown",
   "metadata": {},
   "source": [
    "Modify (re-write) your function to return not only the total binding energy $B$, but also the binding energy per nucleon, which is $B/A$."
   ]
  },
  {
   "cell_type": "code",
   "execution_count": 6,
   "metadata": {},
   "outputs": [
    {
     "data": {
      "text/plain": [
       "(497.68708845919554, 8.58081186998613)"
      ]
     },
     "execution_count": 6,
     "metadata": {},
     "output_type": "execute_result"
    }
   ],
   "source": [
    "def semi_emp_mass(A,Z):\n",
    "    #coefficients in MeV\n",
    "    a1 = 15.67 \n",
    "    a2 = 17.23\n",
    "    a3 = 0.75\n",
    "    a4 = 93.2\n",
    "    \n",
    "    if A % 2 == 1:   #if A odd\n",
    "        a5 = 0\n",
    "    elif Z % 2 == 0: #if A and Z both even\n",
    "        a5 = 12\n",
    "    else:            #if A even and Z odd\n",
    "        a5 = -12\n",
    "        \n",
    "    #Calculate total nuclear binding energy\n",
    "    B = a1*A - a2*A**(2/3) - a3*(Z**2/A**(1/3)) - a4*((A - 2*Z)**2)/A + a5/A**(1/5)\n",
    "    #Calculate nuclear binding energy per nucleon\n",
    "    b = B/A\n",
    "    \n",
    "    return(B,b)\n",
    "\n",
    "semi_emp_mass(58,28)"
   ]
  },
  {
   "cell_type": "markdown",
   "metadata": {},
   "source": [
    "Now modify your function so that it takes as input just a single value of the atomic number $Z$ and then goes through all values of $A$ from $A=Z$ to $A=3Z$, to find the one that has the largest binding energy per nucleon. (Naively, we'd expect the answer to be near $A=2Z$, since most elements have equal numbers of protons and neutrons.) The result is the most stable nucleus with the given atomic number. Have your program print out the value of $A$ for this most stable nucleus and the value of the binding energy per nucleon."
   ]
  },
  {
   "cell_type": "code",
   "execution_count": 7,
   "metadata": {},
   "outputs": [
    {
     "name": "stdout",
     "output_type": "stream",
     "text": [
      "Mass number = 58\n",
      "Binding energy per nucleon =  8.58081186998613\n"
     ]
    }
   ],
   "source": [
    "def Ebinding_for_nucleus(A,Z):\n",
    "    #coefficients in MeV\n",
    "    a1 = 15.67 \n",
    "    a2 = 17.23\n",
    "    a3 = 0.75\n",
    "    a4 = 93.2\n",
    "    \n",
    "    if A % 2 == 1:   #if A odd\n",
    "        a5 = 0\n",
    "    elif Z % 2 == 0: #if A and Z both even\n",
    "        a5 = 12\n",
    "    else:            #if A even and Z odd\n",
    "        a5 = -12\n",
    "        \n",
    "    #Calculate total nuclear binding energy\n",
    "    B = a1*A - a2*A**(2/3) - a3*(Z**2/A**(1/3)) - a4*((A - 2*Z)**2)/A + a5/A**(1/5)\n",
    "    #Calculate nuclear binding energy per nucleon\n",
    "    b = B/A\n",
    "    return(B,b)\n",
    "\n",
    "def semi_emp_mass(Z):\n",
    "    #coefficients in MeV\n",
    "    a1 = 15.67 \n",
    "    a2 = 17.23\n",
    "    a3 = 0.75\n",
    "    a4 = 93.2\n",
    "    \n",
    "    possible_A = list(range(Z,3*Z+1))\n",
    "    B = 0;\n",
    "    b = 0;\n",
    "    \n",
    "    for temp_A in possible_A:\n",
    "        temp_B,temp_b = Ebinding_for_nucleus(temp_A,Z)\n",
    "        if temp_b > b:\n",
    "            b = temp_b\n",
    "            B = temp_B\n",
    "            A = temp_A\n",
    "            \n",
    "    print(\"Mass number =\",A)\n",
    "    print(\"Binding energy per nucleon = \",b)\n",
    "        \n",
    "\n",
    "semi_emp_mass(28)\n",
    "        \n",
    "\n"
   ]
  },
  {
   "cell_type": "markdown",
   "metadata": {},
   "source": [
    "Modify your function again so that, instead of taking $Z$ as input, it runs through all values of $Z$ from 1 to 100 and prints out the most stable value of $A$ for each one. At what value of $Z$ does the maximum binding energy per nucleon occur? (The true answer, in real life, is $Z=28$, which is nickel. You should find that the semi-empirical mass formula gets the answer roughly right, but not exactly.)"
   ]
  },
  {
   "cell_type": "code",
   "execution_count": 8,
   "metadata": {},
   "outputs": [
    {
     "name": "stdout",
     "output_type": "stream",
     "text": [
      "atomic number = 1, mass number = 2, binding energy per nucleon = -3.526401\n",
      "atomic number = 2, mass number = 4, binding energy per nucleon = 6.616885\n",
      "atomic number = 3, mass number = 7, binding energy per nucleon = 4.256752\n",
      "atomic number = 4, mass number = 8, binding energy per nucleon = 7.294631\n",
      "atomic number = 5, mass number = 11, binding energy per nucleon = 6.385941\n",
      "atomic number = 6, mass number = 12, binding energy per nucleon = 7.769691\n",
      "atomic number = 7, mass number = 15, binding energy per nucleon = 7.275929\n",
      "atomic number = 8, mass number = 16, binding energy per nucleon = 8.072481\n",
      "atomic number = 9, mass number = 19, binding energy per nucleon = 7.756546\n",
      "atomic number = 10, mass number = 20, binding energy per nucleon = 8.270470\n",
      "atomic number = 11, mass number = 23, binding energy per nucleon = 8.047742\n",
      "atomic number = 12, mass number = 24, binding energy per nucleon = 8.401436\n",
      "atomic number = 13, mass number = 27, binding energy per nucleon = 8.234005\n",
      "atomic number = 14, mass number = 28, binding energy per nucleon = 8.487042\n",
      "atomic number = 15, mass number = 31, binding energy per nucleon = 8.355316\n",
      "atomic number = 16, mass number = 32, binding energy per nucleon = 8.540509\n",
      "atomic number = 17, mass number = 35, binding energy per nucleon = 8.433300\n",
      "atomic number = 18, mass number = 36, binding energy per nucleon = 8.570361\n",
      "atomic number = 19, mass number = 39, binding energy per nucleon = 8.480797\n",
      "atomic number = 20, mass number = 40, binding energy per nucleon = 8.582357\n",
      "atomic number = 21, mass number = 43, binding energy per nucleon = 8.505969\n",
      "atomic number = 22, mass number = 46, binding energy per nucleon = 8.603967\n",
      "atomic number = 23, mass number = 47, binding energy per nucleon = 8.514280\n",
      "atomic number = 24, mass number = 50, binding energy per nucleon = 8.608435\n",
      "atomic number = 25, mass number = 51, binding energy per nucleon = 8.509541\n",
      "atomic number = 26, mass number = 54, binding energy per nucleon = 8.599749\n",
      "atomic number = 27, mass number = 55, binding energy per nucleon = 8.494502\n",
      "atomic number = 28, mass number = 58, binding energy per nucleon = 8.580812\n",
      "atomic number = 29, mass number = 59, binding energy per nucleon = 8.471198\n",
      "atomic number = 30, mass number = 62, binding energy per nucleon = 8.553742\n",
      "atomic number = 31, mass number = 63, binding energy per nucleon = 8.441174\n",
      "atomic number = 32, mass number = 66, binding energy per nucleon = 8.520125\n",
      "atomic number = 33, mass number = 69, binding energy per nucleon = 8.407024\n",
      "atomic number = 34, mass number = 70, binding energy per nucleon = 8.481173\n",
      "atomic number = 35, mass number = 73, binding energy per nucleon = 8.378547\n",
      "atomic number = 36, mass number = 74, binding energy per nucleon = 8.437827\n",
      "atomic number = 37, mass number = 77, binding energy per nucleon = 8.344203\n",
      "atomic number = 38, mass number = 78, binding energy per nucleon = 8.390831\n",
      "atomic number = 39, mass number = 81, binding energy per nucleon = 8.305003\n",
      "atomic number = 40, mass number = 82, binding energy per nucleon = 8.340780\n",
      "atomic number = 41, mass number = 85, binding energy per nucleon = 8.261751\n",
      "atomic number = 42, mass number = 86, binding energy per nucleon = 8.288154\n",
      "atomic number = 43, mass number = 89, binding energy per nucleon = 8.215093\n",
      "atomic number = 44, mass number = 92, binding energy per nucleon = 8.233815\n",
      "atomic number = 45, mass number = 93, binding energy per nucleon = 8.165558\n",
      "atomic number = 46, mass number = 96, binding energy per nucleon = 8.185074\n",
      "atomic number = 47, mass number = 97, binding energy per nucleon = 8.113576\n",
      "atomic number = 48, mass number = 100, binding energy per nucleon = 8.133699\n",
      "atomic number = 49, mass number = 101, binding energy per nucleon = 8.059506\n",
      "atomic number = 50, mass number = 104, binding energy per nucleon = 8.080083\n",
      "atomic number = 51, mass number = 105, binding energy per nucleon = 8.003648\n",
      "atomic number = 52, mass number = 108, binding energy per nucleon = 8.024553\n",
      "atomic number = 53, mass number = 111, binding energy per nucleon = 7.946452\n",
      "atomic number = 54, mass number = 112, binding energy per nucleon = 7.967382\n",
      "atomic number = 55, mass number = 115, binding energy per nucleon = 7.893842\n",
      "atomic number = 56, mass number = 116, binding energy per nucleon = 7.908802\n",
      "atomic number = 57, mass number = 119, binding energy per nucleon = 7.839412\n",
      "atomic number = 58, mass number = 120, binding energy per nucleon = 7.849008\n",
      "atomic number = 59, mass number = 123, binding energy per nucleon = 7.783407\n",
      "atomic number = 60, mass number = 124, binding energy per nucleon = 7.788169\n",
      "atomic number = 61, mass number = 127, binding energy per nucleon = 7.726035\n",
      "atomic number = 62, mass number = 130, binding energy per nucleon = 7.727320\n",
      "atomic number = 63, mass number = 131, binding energy per nucleon = 7.667477\n",
      "atomic number = 64, mass number = 134, binding energy per nucleon = 7.669676\n",
      "atomic number = 65, mass number = 135, binding energy per nucleon = 7.607886\n",
      "atomic number = 66, mass number = 138, binding energy per nucleon = 7.610896\n",
      "atomic number = 67, mass number = 139, binding energy per nucleon = 7.547396\n",
      "atomic number = 68, mass number = 142, binding energy per nucleon = 7.551126\n",
      "atomic number = 69, mass number = 143, binding energy per nucleon = 7.486124\n",
      "atomic number = 70, mass number = 146, binding energy per nucleon = 7.490492\n",
      "atomic number = 71, mass number = 149, binding energy per nucleon = 7.427989\n",
      "atomic number = 72, mass number = 150, binding energy per nucleon = 7.429107\n",
      "atomic number = 73, mass number = 153, binding energy per nucleon = 7.369331\n",
      "atomic number = 74, mass number = 154, binding energy per nucleon = 7.367066\n",
      "atomic number = 75, mass number = 157, binding energy per nucleon = 7.309834\n",
      "atomic number = 76, mass number = 158, binding energy per nucleon = 7.304455\n",
      "atomic number = 77, mass number = 161, binding energy per nucleon = 7.249598\n",
      "atomic number = 78, mass number = 164, binding energy per nucleon = 7.243774\n",
      "atomic number = 79, mass number = 165, binding energy per nucleon = 7.188713\n",
      "atomic number = 80, mass number = 168, binding energy per nucleon = 7.183700\n",
      "atomic number = 81, mass number = 169, binding energy per nucleon = 7.127258\n",
      "atomic number = 82, mass number = 172, binding energy per nucleon = 7.122991\n",
      "atomic number = 83, mass number = 173, binding energy per nucleon = 7.065304\n",
      "atomic number = 84, mass number = 176, binding energy per nucleon = 7.061723\n",
      "atomic number = 85, mass number = 179, binding energy per nucleon = 7.005622\n",
      "atomic number = 86, mass number = 180, binding energy per nucleon = 6.999964\n",
      "atomic number = 87, mass number = 183, binding energy per nucleon = 6.945899\n",
      "atomic number = 88, mass number = 184, binding energy per nucleon = 6.937775\n",
      "atomic number = 89, mass number = 187, binding energy per nucleon = 6.885630\n",
      "atomic number = 90, mass number = 188, binding energy per nucleon = 6.875209\n",
      "atomic number = 91, mass number = 191, binding energy per nucleon = 6.824878\n",
      "atomic number = 92, mass number = 194, binding energy per nucleon = 6.815156\n",
      "atomic number = 93, mass number = 195, binding energy per nucleon = 6.763700\n",
      "atomic number = 94, mass number = 198, binding energy per nucleon = 6.754697\n",
      "atomic number = 95, mass number = 199, binding energy per nucleon = 6.702145\n",
      "atomic number = 96, mass number = 202, binding energy per nucleon = 6.693816\n",
      "atomic number = 97, mass number = 205, binding energy per nucleon = 6.641488\n",
      "atomic number = 98, mass number = 206, binding energy per nucleon = 6.632561\n",
      "atomic number = 99, mass number = 209, binding energy per nucleon = 6.581885\n",
      "atomic number = 100, mass number = 210, binding energy per nucleon = 6.570976\n"
     ]
    }
   ],
   "source": [
    "def Ebinding_for_nucleus(A,Z):\n",
    "    #coefficients in MeV\n",
    "    a1 = 15.67 \n",
    "    a2 = 17.23\n",
    "    a3 = 0.75\n",
    "    a4 = 93.2\n",
    "    \n",
    "    if A % 2 == 1:   #if A odd\n",
    "        a5 = 0\n",
    "    elif Z % 2 == 0: #if A and Z both even\n",
    "        a5 = 12\n",
    "    else:            #if A even and Z odd\n",
    "        a5 = -12\n",
    "        \n",
    "    #Calculate total nuclear binding energy\n",
    "    B = a1*A - a2*A**(2/3) - a3*(Z**2/A**(1/3)) - a4*((A - 2*Z)**2)/A + a5/A**(1/5)\n",
    "    #Calculate nuclear binding energy per nucleon\n",
    "    b = B/A\n",
    "    return(B,b)\n",
    "\n",
    "def semi_emp_mass(Z):\n",
    "    #coefficients in MeV\n",
    "    a1 = 15.67 \n",
    "    a2 = 17.23\n",
    "    a3 = 0.75\n",
    "    a4 = 93.2\n",
    "    \n",
    "    possible_A = list(range(Z,3*Z+1))\n",
    "    \n",
    "    B,b = Ebinding_for_nucleus(possible_A[0],Z)\n",
    "    \n",
    "    \n",
    "    \n",
    "    for temp_A in possible_A:\n",
    "        temp_B,temp_b = Ebinding_for_nucleus(temp_A,Z)\n",
    "        if temp_b > b:\n",
    "            b = temp_b\n",
    "            B = temp_B\n",
    "            A = temp_A\n",
    "            \n",
    "    return(A,b)\n",
    "    \n",
    "    \n",
    "def nuclear_stability():\n",
    "    atomic_num = list(range(1,100+1))\n",
    "    for Z in atomic_num:\n",
    "        A,b = semi_emp_mass(Z)\n",
    "        print(\"atomic number = %i, mass number = %i, binding energy per nucleon = %f\" %(Z,A,b))\n",
    "        \n",
    "nuclear_stability()\n"
   ]
  },
  {
   "cell_type": "markdown",
   "metadata": {},
   "source": [
    "# Fundamental Physical Constants\n",
    "\n",
    "[NIST](https://physics.nist.gov/cuu/Constants/index.html) maintains a list of the values of all known physical constants. The code bellow will load that data into a very large string."
   ]
  },
  {
   "cell_type": "code",
   "execution_count": 9,
   "metadata": {
    "collapsed": true
   },
   "outputs": [],
   "source": [
    "%reset -f"
   ]
  },
  {
   "cell_type": "code",
   "execution_count": 10,
   "metadata": {},
   "outputs": [],
   "source": [
    "#This code loads the file from the Internet\n",
    "import urllib.request as url\n",
    "data = url.urlopen(\"https://physics.nist.gov/cuu/Constants/Table/allascii.txt\").read()\n",
    "data = data.decode(\"utf-8\")\n",
    "\n",
    "#If you need to work offline, dowload the file manually and instead use\n",
    "#data = open(\"allascii.txt\").read()"
   ]
  },
  {
   "cell_type": "markdown",
   "metadata": {},
   "source": [
    "Write a program to create a list of dictionaries from `data` where each dictionary has \"Quantity\", \"Value\", \"Uncertainty\", and \"Unit\" as keys. Don't try to create this list by hand!\n",
    "\n",
    "For example, the first dictionary in the list should look like\n",
    "```\n",
    "{'Quantity': '{220} lattice spacing of silicon', 'Value' : 1.920155714e-10, 'Uncertainty' : 3.2e-18, 'Unit' : 'm'}\n",
    "```\n",
    "(although the terms may not appear in the same order, since dictionaries are *unordered*). Constants with uncertainties that are \"(exact)\" should be replaced with 0. Unit-less constants should have empty strings for their units."
   ]
  },
  {
   "cell_type": "code",
   "execution_count": 11,
   "metadata": {
    "scrolled": false
   },
   "outputs": [],
   "source": [
    "#Downloaded file to use manually \n",
    "\n",
    "import os #Use this library to manipulate paths to get file\n",
    "\n",
    "#Specify file path and name \n",
    "filepath = \"/Users/kieranfitzmaurice/Documents/University of Pittsburgh/Academics/Sophomore Year/PHYS 1321\"\n",
    "filename = \"Fundamental_Physical_Constants.txt\"\n",
    "\n",
    "file = open((os.path.join(filepath, filename)),\"r\")\n",
    "data = file.readlines()\n",
    "\n",
    "constants = []\n",
    "startinput = 0\n",
    "\n",
    "\n",
    "for line in data:\n",
    "    if startinput == 1:\n",
    "        \n",
    "        temp = line.split(\"  \") #Split string by 2 whitespaces\n",
    "        final = []\n",
    "        \n",
    "        for j in range(len(temp)):\n",
    "            if temp[j] != '':             #if not empty space, keep\n",
    "                if \"(exact)\" in temp[j]:  #if exact, uncertainty = 0\n",
    "                    temp[j] = \"0\"\n",
    "                temp[j] = temp[j].strip() #remove whitespaces on edges\n",
    "                final.append(temp[j]) \n",
    "                \n",
    "        final[1] = final[1].replace(\" \",\"\") #remove spaces between digits\n",
    "        final[2] = final[2].replace(\" \",\"\")\n",
    "            \n",
    "        \n",
    "        dictionary = {\"Quantity\":final[0],\"Value\":final[1],\"Uncertainty\":final[2],\"Unit\":final[3]}\n",
    "        constants.append(dictionary)\n",
    "        \n",
    "\n",
    "                \n",
    "    elif \"---------------\" in line: #start of data on constants\n",
    "        startinput = 1"
   ]
  },
  {
   "cell_type": "code",
   "execution_count": 12,
   "metadata": {},
   "outputs": [
    {
     "name": "stdout",
     "output_type": "stream",
     "text": [
      "{'Quantity': 'alpha particle-electron mass ratio', 'Value': '7294.29954136', 'Uncertainty': '0.00000024', 'Unit': ''}\n",
      "{'Quantity': 'atomic unit of permittivity', 'Value': '1.112650056...e-10', 'Uncertainty': '0', 'Unit': 'F m^-1'}\n",
      "{'Quantity': 'hertz-hartree relationship', 'Value': '1.5198298460088e-16', 'Uncertainty': '0.0000000000090e-16', 'Unit': 'E_h'}\n"
     ]
    }
   ],
   "source": [
    "#print some of the trickier lines\n",
    "print(constants[1]) #alpha particle-electron mass ratio (no units)\n",
    "print(constants[39]) #atomic unit of permittivity (\"...\" in value and also exact)\n",
    "print(constants[142]) #hertz-hartree relationship (only 2 spaces between value and uncertainty)"
   ]
  },
  {
   "cell_type": "markdown",
   "metadata": {},
   "source": [
    "Write a program that finds the constant in your list that has the largest fractional uncertainty (Uncertainty/Value). Print the  name (\"Quantity\") of that constant."
   ]
  },
  {
   "cell_type": "code",
   "execution_count": 13,
   "metadata": {},
   "outputs": [
    {
     "name": "stdout",
     "output_type": "stream",
     "text": [
      "kilogram-hertz relationship\n"
     ]
    }
   ],
   "source": [
    "#your code here\n",
    "\n",
    "uncert_max = 0\n",
    "uncert_loc = 0\n",
    "\n",
    "for i in range(len(constants)):\n",
    "    uncert = float(constants[i][\"Uncertainty\"])\n",
    "    if uncert > uncert_max:\n",
    "        uncert_max = uncert\n",
    "        uncert_loc = i\n",
    "        \n",
    "print(constants[uncert_loc][\"Quantity\"])\n",
    "    \n"
   ]
  }
 ],
 "metadata": {
  "kernelspec": {
   "display_name": "Python 3",
   "language": "python",
   "name": "python3"
  },
  "language_info": {
   "codemirror_mode": {
    "name": "ipython",
    "version": 3
   },
   "file_extension": ".py",
   "mimetype": "text/x-python",
   "name": "python",
   "nbconvert_exporter": "python",
   "pygments_lexer": "ipython3",
   "version": "3.6.1"
  }
 },
 "nbformat": 4,
 "nbformat_minor": 2
}
