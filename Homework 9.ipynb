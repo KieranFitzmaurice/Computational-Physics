{
 "cells": [
  {
   "cell_type": "markdown",
   "metadata": {},
   "source": [
    "Name: Kieran Fitzmaurice"
   ]
  },
  {
   "cell_type": "markdown",
   "metadata": {},
   "source": [
    "# Glycolysis\n",
    "\n",
    "(Adapted from textbook exercise 6.12)\n",
    "\n",
    "The biochemical process of *glycolysis*, the breakdown of glucose in the body to release energy, can be modeled by the equations\n",
    "$$\\frac{dx}{dt} = -x + ay + x^2 y, \\qquad \\frac{dy}{dt} = b - ay - x^2 y\\,.$$\n",
    "Here $x$ and $y$ represent concentrations of two chemicals, ADP and F6P, and $a$ and $b$ are positive constants.  One of the important features of nonlinear equations like these is their *stationary points*, meaning values of $x$ and $y$ at which the derivatives of both variables become zero simultaneously, so that the variables stop changing and become constant in time. Setting the derivatives to zero above, the stationary points of our glycolysis equations are solutions of\n",
    "$$-x + ay + x^2 y = 0, \\qquad b - ay - x^2 y = 0\\,.$$\n",
    "\n",
    "- Write a program to solve these for the stationary point using the **relaxation method** with $a=1$ and $b=2$. You will need to find a way to rewrite the equations above so that the solution converges. You should code your own solver, since `scipy` doesn't include any routines that will solve multiple equations using the relaxation method (probably because the relaxation method is trivial to code)."
   ]
  },
  {
   "cell_type": "code",
   "execution_count": 1,
   "metadata": {},
   "outputs": [
    {
     "name": "stdout",
     "output_type": "stream",
     "text": [
      "2.0 0.4\n"
     ]
    }
   ],
   "source": [
    "import numpy as np\n",
    "\n",
    "a = 1\n",
    "b = 2\n",
    "\n",
    "f1 = lambda x,y: a*y + y*x**2\n",
    "f2 = lambda x,y: b/(a+x**2)\n",
    "\n",
    "x = 0.5\n",
    "y = 0.5\n",
    "\n",
    "for i in range(0,100):\n",
    "    x = f1(x,y)\n",
    "    y = f2(x,y)\n",
    "\n",
    "print(x,y)"
   ]
  },
  {
   "cell_type": "markdown",
   "metadata": {},
   "source": [
    "# Wien's Displacement Constant\n",
    "\n",
    "(Adapted from textbook exercise 6.13)\n",
    "\n",
    "Planck's radiation law tells us that the intensity of radiation per unit area and per unit wavelength $\\lambda$\n",
    "from a black body at temperature $T$ is\n",
    "$$I(\\lambda) = \\frac{2\\pi hc^2\\lambda^{-5}}{e^{hc/\\lambda k_BT}-1}\\,,$$\n",
    "where $h$ is Planck's constant, $c$ is the speed of light, and $k_B$ is Boltzmann's constant.\n",
    "\n",
    "The wavelength $\\lambda$ at which the emitted radiation is strongest is the solution of the equation\n",
    "$$5 e^{-hc/\\lambda k_BT} + \\frac{hc}{\\lambda k_BT} - 5 = 0\\,.$$\n",
    "\n",
    "Making the substitution $x=hc/\\lambda k_BT$, we see that the wavelength of maximum radiation obeys the *Wien displacement law*:\n",
    "$$\\lambda = \\frac{b}{T}\\,,$$\n",
    "where the so-called *Wien displacement constant* is $b=hc/k_Bx$, and $x$ is the solution to the nonlinear equation\n",
    "$$5 e^{-x} + x - 5 = 0\\,.$$\n",
    "\n",
    "- Write a program to solve this equation to an accuracy of $\\epsilon=10^{-6}$ using the **binary search method**, and hence find a value for the displacement constant.\n",
    "\n",
    "\n",
    "- The displacement law is the basis for the method of *optical pyrometry*, a method for measuring the temperatures of objects by observing the color of the thermal radiation they emit. The method is commonly used to estimate the surface temperatures of astronomical bodies, such as the Sun. The wavelength peak in the Sun's emitted radiation falls at $\\lambda=502$ nm. From the equations above and your value of the displacement constant, estimate the surface temperature of the Sun."
   ]
  },
  {
   "cell_type": "code",
   "execution_count": 2,
   "metadata": {
    "collapsed": true
   },
   "outputs": [],
   "source": [
    "%reset -f"
   ]
  },
  {
   "cell_type": "code",
   "execution_count": 3,
   "metadata": {},
   "outputs": [
    {
     "name": "stdout",
     "output_type": "stream",
     "text": [
      "Temperature of sun = 5776.451772 K\n"
     ]
    }
   ],
   "source": [
    "import numpy as np\n",
    "import scipy.optimize as so\n",
    "\n",
    "def binary_search(f,x1,x2,tol):\n",
    "    xprime = 0.5*(x1+x2)\n",
    "    while abs(f(xprime)) > tol:\n",
    "        if np.sign(f(xprime)) == np.sign(f(x1)):\n",
    "            x1 = xprime\n",
    "        else:\n",
    "            x2 = xprime\n",
    "        xprime = 0.5*(x1+x2)        \n",
    "        \n",
    "    return(xprime)\n",
    "\n",
    "f = lambda x: 5*np.exp(-1*x) + x - 5\n",
    "x = binary_search(f,2.5,7.5,1e-6)\n",
    "\n",
    "h = 6.62607004e-34 #Planck's Constant\n",
    "c = 3.00e8 #Speed of light\n",
    "k = 1.38064852e-23 #Boltzmann Constant\n",
    "lam = 502e-9 #Wavelength of max intensity\n",
    "b = h*c/(k*x)\n",
    "T = b/lam\n",
    "\n",
    "print(\"Temperature of sun = %lf K\" % T)"
   ]
  },
  {
   "cell_type": "markdown",
   "metadata": {},
   "source": [
    "# The Roots of a Polynomial\n",
    "\n",
    "(Adapted from textbook exercise 6.15)\n",
    "\n",
    "Consider the sixth-order polynomial\n",
    "$$P(x) = 924 x^6 - 2772 x^5 + 3150 x^4 - 1680 x^3 + 420 x^2 - 42 x + 1\\,.$$\n",
    "There is no general formula for the roots of a sixth-order polynomial, but one can find them easily enough using a computer.\n",
    "\n",
    "- Make a plot of $P(x)$ from $x=0$ to $x=1$ and by inspecting it find rough values for the six roots of the polynomial - the points at which the function is zero."
   ]
  },
  {
   "cell_type": "code",
   "execution_count": 4,
   "metadata": {
    "collapsed": true
   },
   "outputs": [],
   "source": [
    "%reset -f"
   ]
  },
  {
   "cell_type": "code",
   "execution_count": 5,
   "metadata": {},
   "outputs": [
    {
     "data": {
      "image/png": "[encoded data removed]",
      "text/plain": [
       "<matplotlib.figure.Figure at 0x1121e27b8>"
      ]
     },
     "metadata": {},
     "output_type": "display_data"
    },
    {
     "name": "stdout",
     "output_type": "stream",
     "text": [
      "Roots:\n",
      "0.0337652429\n",
      "0.1693953068\n",
      "0.3806904070\n",
      "0.6193095930\n",
      "0.8306046932\n",
      "0.9662347571\n"
     ]
    }
   ],
   "source": [
    "import matplotlib.pyplot as plt\n",
    "import numpy as np\n",
    "import scipy.optimize as so\n",
    "\n",
    "\n",
    "P = lambda x: 924*x**6 - 2772*x**5 + 3150*x**4 - 1680*x**3 + 420*x**2 - 42*x + 1\n",
    "Pprime = lambda x: 6*924*x**5 - 5*2772*x**4 + 4*3150*x**3 - 3*1680*x**2 + 2*420*x - 42\n",
    "\n",
    "x = np.linspace(0,1,1000)\n",
    "plt.plot(x,P(x),'b-',[0,1],[0,0],'r-')\n",
    "plt.axis(xmin = 0,xmax = 1)\n",
    "\n",
    "def Newton_Method(f,fprime,x1,tol):\n",
    "    x2 = x1 - f(x1)/fprime(x1)\n",
    "    while abs(f(x2)) > tol:\n",
    "        x1 = x2\n",
    "        x2 = x1 - f(x1)/fprime(x1)\n",
    "    return(x2)\n",
    "\n",
    "r1 = Newton_Method(P,Pprime,0.04,1e-10)\n",
    "r2 = Newton_Method(P,Pprime,0.18,1e-10)\n",
    "r3 = Newton_Method(P,Pprime,0.4,1e-10)\n",
    "r4 = Newton_Method(P,Pprime,0.65,1e-10)\n",
    "r5 = Newton_Method(P,Pprime,0.85,1e-10)\n",
    "r6 = Newton_Method(P,Pprime,0.95,1e-10)\n",
    "\n",
    "plt.plot([r1,r2,r3,r4,r5,r6],[0,0,0,0,0,0],'ko')\n",
    "plt.show()\n",
    "\n",
    "print(\"Roots:\\n%.10lf\\n%.10lf\\n%.10lf\\n%.10lf\\n%.10lf\\n%.10lf\"% (r1,r2,r3,r4,r5,r6))\n",
    "\n"
   ]
  },
  {
   "cell_type": "markdown",
   "metadata": {},
   "source": [
    "- Write a Python program to solve for the positions of all six roots to at least ten decimal places of accuracy, using **Newton's method**.\n",
    "\n",
    "Note that the polynomial in this example is just the sixth Legendre polynomial (mapped onto the interval from zero to one), so the calculation performed here is the same as finding the integration points for 6-point\n",
    "Gaussian quadrature, and indeed Newton's method is the method of choice for calculating Gaussian quadrature points."
   ]
  },
  {
   "cell_type": "code",
   "execution_count": 6,
   "metadata": {
    "collapsed": true
   },
   "outputs": [],
   "source": [
    "#your code here\n"
   ]
  },
  {
   "cell_type": "markdown",
   "metadata": {},
   "source": [
    "# The Temperature of a Light Bulb\n",
    "\n",
    "(Adapted from textbook exercise 6.18)\n",
    "\n",
    "An incandescent light bulb is a simple device - it contains a filament, usually made of tungsten, heated by the flow of electricity until it becomes hot enough to radiate thermally. Essentially all of the power consumed by such a bulb is radiated as electromagnetic energy, but some of the radiation is not in the visible wavelengths, which means it is useless for lighting purposes.\n",
    "\n",
    "Let us define the efficiency of a light bulb to be the fraction of the radiated energy that falls in the visible band. It's a good approximation to assume that the radiation from a filament at temperature $T$ obeys the Planck radiation law, meaning that the power radiated per unit wavelength $\\lambda$ obeys\n",
    "$$I(\\lambda) = 2\\pi A hc^2 \\frac{\\lambda^{-5}}{e^{hc/\\lambda k_BT}-1}\\,,$$\n",
    "where $A$ is the surface area of the filament, $h$ is Planck's constant, $c$ is the speed of light, and $k_B$ is Boltzmann's constant. The visible wavelengths run from $\\lambda_1=390$ nm to $\\lambda_2=750$ nm, so the total energy radiated in the visible window is $\\int_{\\lambda_1}^{\\lambda_2} I(\\lambda)\\,d\\lambda$ and the total energy\n",
    "at all wavelengths is $\\int_0^\\infty I(\\lambda)\\,d\\lambda$. Dividing one expression by the other and substituting for $I(\\lambda)$ from above, we get an expression for the efficiency $\\eta$ of the light bulb thus:\n",
    "$$\\eta = \\frac{\\int_{\\lambda_1}^{\\lambda_2} \\lambda^{-5}/(e^{hc/\\lambda k_BT}-1) \\,d\\lambda}{\\int_0^\\infty \\lambda^{-5}/(e^{hc/\\lambda k_BT}-1) \\,d\\lambda}\\,,$$\n",
    "where the leading constants and the area $A$ have canceled out. Making the substitution $x=hc/\\lambda k_BT$, this can also be written as\n",
    "$$\\eta = \\frac{\\int_{hc/\\lambda_2 k_BT}^{hc/\\lambda_1 k_BT} x^3/(e^x-1) \\,dx}{\\int_0^\\infty x^3/(e^x-1) \\,dx} = \\frac{15}{\\pi^4}\\int_{hc/\\lambda_2 k_BT}^{hc/\\lambda_1 k_BT}\\frac{x^3}{e^x-1} \\,dx\\,,$$\n",
    "where we have made use of the known exact value of the integral in the denominator.\n",
    "\n",
    "- Write a Python function that takes a temperature $T$ as its argument and calculates the value of $\\eta$ for that temperature from the formula above. The integral in the formula cannot be done analytically, but you can do it numerically using any method of your choice.\n",
    "\n",
    "\n",
    "- Use your function to make a graph of $\\eta$ as a function of temperature between 300 K and $10\\,000$ K. You should see that there is an intermediate temperature where the efficiency is a maximum."
   ]
  },
  {
   "cell_type": "code",
   "execution_count": 7,
   "metadata": {
    "collapsed": true
   },
   "outputs": [],
   "source": [
    "%reset -f"
   ]
  },
  {
   "cell_type": "code",
   "execution_count": 8,
   "metadata": {},
   "outputs": [
    {
     "data": {
      "image/png": "[encoded data removed]",
      "text/plain": [
       "<matplotlib.figure.Figure at 0x116bac5c0>"
      ]
     },
     "metadata": {},
     "output_type": "display_data"
    }
   ],
   "source": [
    "import numpy as np\n",
    "import matplotlib.pyplot as plt\n",
    "import scipy.integrate as si\n",
    "import scipy.optimize as so\n",
    "\n",
    "def efficiency(T):\n",
    "    \n",
    "    f = lambda x: x**3/(np.exp(x)-1)\n",
    "    \n",
    "    h = 6.62607004e-34 #Planck's Constant\n",
    "    c = 3.00e8 #Speed of light\n",
    "    k = 1.38064852e-23 #Boltzmann Constant\n",
    "    lam1 = 390e-9\n",
    "    lam2 = 750e-9\n",
    "    \n",
    "    I,err = si.quad(f,h*c/(lam2*k*T),h*c/(lam1*k*T))\n",
    "    eff = 15/np.pi**4*I\n",
    "    return(eff)\n",
    "    \n",
    "temps = np.linspace(300,10000,1000)\n",
    "eff = np.zeros(1000)\n",
    "\n",
    "for i,T in enumerate(temps):\n",
    "    eff[i] = efficiency(T)\n",
    "    \n",
    "plt.plot(temps,eff)\n",
    "plt.xlabel(\"Temperature (K)\")\n",
    "plt.ylabel(\"Efficiency\")\n",
    "plt.show()"
   ]
  },
  {
   "cell_type": "markdown",
   "metadata": {},
   "source": [
    "- Calculate the temperature of maximum efficiency of the light bulb to within 1 K using **golden ratio search**.\n",
    "> Hint: An accuracy of 1 K is the equivalent of a few parts in ten thousand in this case. To get this kind of accuracy in your calculation you'll need to use values for the fundamental constants that are suitably accurate, i.e., you will need values accurate to several significant figures."
   ]
  },
  {
   "cell_type": "code",
   "execution_count": 9,
   "metadata": {},
   "outputs": [
    {
     "name": "stdout",
     "output_type": "stream",
     "text": [
      "Most Efficient Temperature = 6933.375724679134 K\n"
     ]
    }
   ],
   "source": [
    "f = lambda T: -1*efficiency(T)\n",
    "sol = so.golden(f,brack = (6000,7000,8000))\n",
    "\n",
    "print(\"Most Efficient Temperature =\",sol,\"K\")"
   ]
  },
  {
   "cell_type": "code",
   "execution_count": null,
   "metadata": {
    "collapsed": true
   },
   "outputs": [],
   "source": []
  }
 ],
 "metadata": {
  "kernelspec": {
   "display_name": "Python 3",
   "language": "python",
   "name": "python3"
  },
  "language_info": {
   "codemirror_mode": {
    "name": "ipython",
    "version": 3
   },
   "file_extension": ".py",
   "mimetype": "text/x-python",
   "name": "python",
   "nbconvert_exporter": "python",
   "pygments_lexer": "ipython3",
   "version": "3.6.1"
  }
 },
 "nbformat": 4,
 "nbformat_minor": 2
}
