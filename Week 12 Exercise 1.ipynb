{
 "cells": [
  {
   "cell_type": "markdown",
   "metadata": {},
   "source": [
    "Your Name: Kieran Fitzmaurice"
   ]
  },
  {
   "cell_type": "markdown",
   "metadata": {},
   "source": [
    "Consider a sphere released from rest above earth's surface. Acting on the sphere are three forces:\n",
    "1. The gravitational force:\n",
    "$$F_g=\\tfrac43\\pi R^3 \\rho_s g\\,,$$\n",
    "where $\\rho_s$ is density of the sphere, $R$ is the radius of the sphere, and $g=9.8$ m/s$^2$. This force is always directed downwards.\n",
    "2. The buoyant force:\n",
    "$$F_b=\\tfrac43\\pi R^3\\rho_a g\\,,$$\n",
    "where $\\rho_a=1.225$ kg/m$^3$ is the density of air. This force is always directed upwards.\n",
    "3. The drag force:\n",
    "$$F_d=\\tfrac12\\pi R^2 \\rho_aC_d v^2\\,,$$\n",
    "where $v$ is the speed of the sphere, and $C_d=0.5$ is the drag coefficient of the sphere. This force always points in the opposite direction of the sphere's velocity.\n",
    "\n",
    "Putting these together, we have\n",
    "$$\\tfrac43\\pi R^3\\rho_s\\frac{d^2x}{dt^2}=Fb-Fg\\pm Fd\\,,$$\n",
    "where the term on the left is the net force.\n",
    "\n",
    "- Rewrite this second order equation as two first order equations.\n",
    "\n",
    "\n",
    "- Plot the velocity of a water balloon ($\\rho_s=1000$ kg/m$^3$) with radius 20 cm from $t=0$ to $t=60$ s. Verify that it reaches the correct terminal velocity.\n",
    "\n",
    "> Hint: You can calculate the terminal velocity analytically by setting $d^2x/dt^2=0$."
   ]
  },
  {
   "cell_type": "code",
   "execution_count": 1,
   "metadata": {},
   "outputs": [
    {
     "data": {
      "image/png": "[encoded data removed]",
      "text/plain": [
       "<matplotlib.figure.Figure at 0x102738d68>"
      ]
     },
     "metadata": {},
     "output_type": "display_data"
    }
   ],
   "source": [
    "import numpy as np\n",
    "import matplotlib.pyplot as plt\n",
    "from scipy.integrate import simps\n",
    "from scipy.optimize import newton, fmin\n",
    "from scipy.integrate import odeint\n",
    "\n",
    "Fg = lambda R,p_s,g: (4/3)*np.pi*R**3*p_s*g\n",
    "Fb = lambda R,p_a,g: (4/3)*np.pi*R**3*p_a*g\n",
    "Fd = lambda R,p_a,C_d,v: (1/2)*np.pi*R**2*p_a*C_d*v**2\n",
    "\n",
    "def RK4_step(f, x, t, h):\n",
    "    \"\"\"\n",
    "    Given a function f(x,t) and\n",
    "    scalars x, t, and h, return x(t+h)\n",
    "    \"\"\"\n",
    "    k1 = h*f(x, t)\n",
    "    k2 = h*f(x + k1/2, t + h/2)\n",
    "    k3 = h*f(x + k2/2, t + h/2)\n",
    "    k4 = h*f(x + k3, t + h)\n",
    "    return x + (k1 + 2*k2 + 2*k3 + k4)/6\n",
    "\n",
    "def f(r,t):\n",
    "    x,v = r\n",
    "    \n",
    "    if v > 0: #going up\n",
    "        Fnet = Fb(R,p_a,g) - Fg(R,p_s,g) - Fd(R,p_a,C_d,v)\n",
    "    else: #coming down\n",
    "        Fnet = Fb(R,p_a,g) - Fg(R,p_s,g) + Fd(R,p_a,C_d,v)\n",
    "        \n",
    "    fx = v\n",
    "    fv = Fnet/(4/3*np.pi*R**3*p_s)\n",
    "    return np.array([fx,fv])\n",
    "\n",
    "g = 9.8 # acceleration due to gravity (m/s^2)\n",
    "p_a = 1.225 # density of air (kg/m^3)\n",
    "p_s = 1000 # density of water balloon (kg/m^3)\n",
    "C_d = 0.5 # drag coefficient\n",
    "R = 0.2 # m\n",
    "\n",
    "#Initial Conditions\n",
    "x = 0\n",
    "v = 0\n",
    "h = 0.001\n",
    "\n",
    "t_values = np.arange(0,60,h)\n",
    "x_values = []\n",
    "v_values = []\n",
    "\n",
    "for t in t_values:\n",
    "    x_values.append(x)\n",
    "    v_values.append(v)\n",
    "    r = (x,v)\n",
    "    x,v = RK4_step(f,r,t,h)\n",
    "    \n",
    "    \n",
    "v_terminal = (abs((Fg(R,p_s,g) - Fb(R,p_a,g))/((1/2)*np.pi*R**2*p_a*C_d)))**0.5\n",
    "    \n",
    "plt.plot(t_values,abs(np.array(v_values)))\n",
    "plt.plot([min(t_values),max(t_values)],[v_terminal,v_terminal],'r--',label = \"$v_{terminal}$\\n= %.2lf m/s\" % v_terminal)\n",
    "plt.axis(xmin = 0,ymin = 0, xmax = 60, ymax = 100)\n",
    "plt.xlabel(\"Time (s)\")\n",
    "plt.ylabel(\"Velocty (m/s)\")\n",
    "plt.title(\"Falling Water Balloon\")\n",
    "plt.legend()\n",
    "plt.show()"
   ]
  },
  {
   "cell_type": "markdown",
   "metadata": {},
   "source": [
    "- Plot the velocity of a helium balloon ($\\rho_s=0.164$ kg/m$^3$) with radius 20 cm from $t=0$ until it reaches terminal velocity. Verify that it reaches the correct terminal velocity.\n",
    "\n",
    "\n",
    "- Calculate the amount of time it took for the helium balloon to reach 99% of its terminal velocity."
   ]
  },
  {
   "cell_type": "code",
   "execution_count": 2,
   "metadata": {},
   "outputs": [
    {
     "data": {
      "image/png": "[encoded data removed]",
      "text/plain": [
       "<matplotlib.figure.Figure at 0x10d901748>"
      ]
     },
     "metadata": {},
     "output_type": "display_data"
    }
   ],
   "source": [
    "%reset -f\n",
    "\n",
    "import numpy as np\n",
    "import matplotlib.pyplot as plt\n",
    "from scipy.integrate import simps\n",
    "from scipy.optimize import newton, fmin\n",
    "from scipy.integrate import odeint\n",
    "\n",
    "Fg = lambda R,p_s,g: (4/3)*np.pi*R**3*p_s*g\n",
    "Fb = lambda R,p_a,g: (4/3)*np.pi*R**3*p_a*g\n",
    "Fd = lambda R,p_a,C_d,v: (1/2)*np.pi*R**2*p_a*C_d*v**2\n",
    "\n",
    "def f(r,t):\n",
    "    x,v = r\n",
    "    \n",
    "    if v > 0: #going up\n",
    "        Fnet = Fb(R,p_a,g) - Fg(R,p_s,g) - Fd(R,p_a,C_d,v)\n",
    "    else: #coming down\n",
    "        Fnet = Fb(R,p_a,g) - Fg(R,p_s,g) + Fd(R,p_a,C_d,v)\n",
    "        \n",
    "    fx = v\n",
    "    fv = Fnet/(4/3*np.pi*R**3*p_s)\n",
    "    return np.array([fx,fv])\n",
    "\n",
    "g = 9.8 # acceleration due to gravity (m/s^2)\n",
    "p_a = 1.225 # density of air (kg/m^3)\n",
    "p_s = 0.164 # density of helium balloon (kg/m^3)\n",
    "C_d = 0.5 # drag coefficient\n",
    "R = 0.2 # m\n",
    "\n",
    "#Initial Conditions\n",
    "x0 = 0\n",
    "v0 = 0\n",
    "\n",
    "t = np.linspace(0,0.3,5000)\n",
    "\n",
    "r = odeint(f,(x0,v0),t)\n",
    "x,v = r.T\n",
    "    \n",
    "v_terminal = abs(((Fg(R,p_s,g) - Fb(R,p_a,g))/((1/2)*np.pi*R**2*p_a*C_d)))**0.5\n",
    "\n",
    "plt.plot(t,abs(np.array(v)))\n",
    "plt.plot([min(t),max(t)],[v_terminal,v_terminal],'r--',label = \"$v_{terminal}$\\n= %.2lf m/s\" % v_terminal)\n",
    "plt.axis(xmin = 0,ymin = 0, xmax = 0.3, ymax = 4)\n",
    "plt.xlabel(\"Time (s)\")\n",
    "plt.ylabel(\"Velocty (m/s)\")\n",
    "plt.title(\"Falling Helium Balloon\")\n",
    "plt.legend()\n",
    "plt.show()"
   ]
  },
  {
   "cell_type": "code",
   "execution_count": 3,
   "metadata": {},
   "outputs": [
    {
     "name": "stdout",
     "output_type": "stream",
     "text": [
      "0.99 Terminal Velocity at 0.1256 seconds\n"
     ]
    }
   ],
   "source": [
    "@np.vectorize\n",
    "def func(tf):\n",
    "    r = odeint(f, (x0, v0), (0,tf))\n",
    "    x, v = r.T\n",
    "    return(abs(v[-1]) - 0.99*v_terminal)\n",
    "\n",
    "guess = 0.15\n",
    "tf = newton(func,guess)\n",
    "print(\"0.99 Terminal Velocity at %.4lf seconds\" % tf)"
   ]
  },
  {
   "cell_type": "markdown",
   "metadata": {},
   "source": [
    "- Make a 2-D plot using `imshow` that shows the time taken to reach 99% of terminal velocity for low-density objects. Specifically, use $0.8<\\rho_s<1.6$ kg/m$^3$ and $1<R<100$ cm$^3$.\n",
    "\n",
    "> Hint 1: You can pass `aspect=\"auto\"` to `imshow` have it auto-scale both axes. You'll still need to use `extent` to control the values shown.\n",
    "\n",
    "> Hint 2: Start with a coarse grid of values for $\\rho_s$ and $R$ while testing."
   ]
  },
  {
   "cell_type": "code",
   "execution_count": 6,
   "metadata": {},
   "outputs": [
    {
     "data": {
      "image/png": "[encoded data removed]",
      "text/plain": [
       "<matplotlib.figure.Figure at 0x10d8e80f0>"
      ]
     },
     "metadata": {},
     "output_type": "display_data"
    }
   ],
   "source": [
    "%reset -f\n",
    "\n",
    "import numpy as np\n",
    "import matplotlib.pyplot as plt\n",
    "from scipy.integrate import simps\n",
    "from scipy.optimize import newton, fmin\n",
    "from scipy.integrate import odeint\n",
    "\n",
    "Fg = lambda R,p_s,g: (4/3)*np.pi*R**3*p_s*g\n",
    "Fb = lambda R,p_a,g: (4/3)*np.pi*R**3*p_a*g\n",
    "Fd = lambda R,p_a,C_d,v: (1/2)*np.pi*R**2*p_a*C_d*v**2\n",
    "\n",
    "def f(r,t):\n",
    "    x,v = r\n",
    "    \n",
    "    if v > 0: #going up\n",
    "        Fnet = Fb(R,p_a,g) - Fg(R,p_s,g) - Fd(R,p_a,C_d,v)\n",
    "    else: #coming down\n",
    "        Fnet = Fb(R,p_a,g) - Fg(R,p_s,g) + Fd(R,p_a,C_d,v)\n",
    "        \n",
    "    fx = v\n",
    "    fv = Fnet/(4/3*np.pi*R**3*p_s)\n",
    "    return np.array([fx,fv])\n",
    "\n",
    "@np.vectorize\n",
    "def func(tf):\n",
    "    r = odeint(f, (x0, v0), (0,tf))\n",
    "    x, v = r.T\n",
    "    return(abs(v[-1]) - 0.99*v_terminal)\n",
    "\n",
    "n = 30\n",
    "\n",
    "g = 9.8 # acceleration due to gravity (m/s^2)\n",
    "p_a = 1.225 # density of air (kg/m^3)\n",
    "C_d = 0.5 # drag coefficient\n",
    "ps_values = np.linspace(0.8,1.6,n) # density (kg/m^3)\n",
    "R_values = np.linspace(0.01,1,n) # radius (m)\n",
    "\n",
    "#Initial Conditions\n",
    "x0 = 0\n",
    "v0 = 0\n",
    "\n",
    "grid = np.zeros((n,n))\n",
    "\n",
    "for i,p_s in enumerate(ps_values):\n",
    "    for j,R in enumerate(R_values):\n",
    "        v_terminal = abs(((Fg(R,p_s,g) - Fb(R,p_a,g))/((1/2)*np.pi*R**2*p_a*C_d)))**0.5\n",
    "        guess = 0.001\n",
    "        tf = newton(func,guess)\n",
    "        grid[i][j] = tf\n",
    "        \n",
    "fig = plt.figure(figsize = (8,6))\n",
    "plt.imshow(grid,cmap = \"jet\",extent=[0.8,1.6,0.01,1],aspect = \"auto\")\n",
    "plt.xlabel(\"Density (kg/$m^3$)\")\n",
    "plt.ylabel(\"Radius (m)\")\n",
    "plt.title(\"Time to Reach 0.99 Terminal Velocity\")\n",
    "plt.show()"
   ]
  },
  {
   "cell_type": "code",
   "execution_count": null,
   "metadata": {
    "collapsed": true
   },
   "outputs": [],
   "source": []
  }
 ],
 "metadata": {
  "kernelspec": {
   "display_name": "Python 3",
   "language": "python",
   "name": "python3"
  },
  "language_info": {
   "codemirror_mode": {
    "name": "ipython",
    "version": 3
   },
   "file_extension": ".py",
   "mimetype": "text/x-python",
   "name": "python",
   "nbconvert_exporter": "python",
   "pygments_lexer": "ipython3",
   "version": "3.6.1"
  }
 },
 "nbformat": 4,
 "nbformat_minor": 2
}
