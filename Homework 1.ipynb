{
 "cells": [
  {
   "cell_type": "markdown",
   "metadata": {},
   "source": [
    "Your Name: Kieran Fitzmaurice "
   ]
  },
  {
   "cell_type": "markdown",
   "metadata": {},
   "source": [
    "# Altitude of a Satellite\n",
    "\n",
    "(Adapted from textbook exercise 2.2)\n",
    "\n",
    "A satellite is to be launched into a circular orbit around the Earth so that it orbits the planet once every $T$ seconds. The altitude $h$ above the Earth's surface that the satellite must have is\n",
    "$$h = \\biggl( {GMT^2\\over4\\pi^2} \\biggr)^{1/3} - R\\,,$$\n",
    "where $G=6.67\\times10^{-11}$ m$^3$kg$^{-1}$s$^{-2}$ is Newton's gravitational constant, $M=5.97\\times10^{24}$ kg is the mass of the Earth, and $R=6371$ km is its radius.\n",
    "\n",
    "Fill in the code for the altitude function so that given $T$ in seconds, it calculates and returns the correct altitude in meters."
   ]
  },
  {
   "cell_type": "code",
   "execution_count": 1,
   "metadata": {
    "collapsed": true
   },
   "outputs": [],
   "source": [
    "from math import pi\n",
    "\n",
    "def altitude(T):\n",
    "    \n",
    "    G = 6.67e-11 #Newton's Gravitational Constant in m^3/(kg*s^2)\n",
    "    M = 5.97e24  #Mass of Earth in kg\n",
    "    R = 6371e3   #Radius of Earth in m\n",
    "    \n",
    "    h = ((G*M*T**2)/(4*pi**2))**(1/3) - R\n",
    "    \n",
    "    return h\n",
    "    "
   ]
  },
  {
   "cell_type": "markdown",
   "metadata": {},
   "source": [
    "Use your function to print the altitudes of satellites that orbit the Earth once a day (so-called *geosynchronous* orbit), once every 90 minutes, and once every 45 minutes. "
   ]
  },
  {
   "cell_type": "code",
   "execution_count": 2,
   "metadata": {},
   "outputs": [
    {
     "name": "stdout",
     "output_type": "stream",
     "text": [
      "Orbital Period = 86400 seconds, altitude = 35855910.176174976 meters\n",
      "Orbital Period = 5400 seconds, altitude = 279321.6253728606 meters\n",
      "Orbital Period = 2700 seconds, altitude = -2181559.8978108233 meters\n"
     ]
    }
   ],
   "source": [
    "#your code here\n",
    "\n",
    "times = [24*60*60,90*60,45*60]\n",
    "\n",
    "for T in times:\n",
    "    print(\"Orbital Period =\",T,\"seconds, altitude =\",altitude(T),\"meters\")\n",
    "\n"
   ]
  },
  {
   "cell_type": "markdown",
   "metadata": {},
   "source": [
    "What do you conclude from the last of these calculations?"
   ]
  },
  {
   "cell_type": "markdown",
   "metadata": {},
   "source": [
    "The fact that the last calculation results in a negative answer suggests that it is impossible to launch a satellite into an orbit in which it orbits the Earth every 45 minutes."
   ]
  },
  {
   "cell_type": "markdown",
   "metadata": {},
   "source": [
    "# Polar Coordinates\n",
    "\n",
    "(Adapted from textbook exercise 2.3)\n",
    "\n",
    "Ask the user (using the `input` function) for the Cartesian coordinates $x,y$ of a point in two-dimensional space, and calculate and print the corresponding polar coordinates, with the angle $\\theta$ given in degrees."
   ]
  },
  {
   "cell_type": "code",
   "execution_count": 3,
   "metadata": {
    "collapsed": true
   },
   "outputs": [],
   "source": [
    "%reset -f \n",
    "#this statement clears previously defined variables"
   ]
  },
  {
   "cell_type": "code",
   "execution_count": 4,
   "metadata": {},
   "outputs": [
    {
     "name": "stdout",
     "output_type": "stream",
     "text": [
      "Enter cartestian coordinates:\n",
      "  x = 4\n",
      "  y = 3\n",
      "Polar Coordinates:\n",
      "  r = 5.0\n",
      "  theta = 0.6435011087932844\n"
     ]
    }
   ],
   "source": [
    "from math import atan\n",
    "\n",
    "print(\"Enter cartestian coordinates:\")\n",
    "x = input(\"  x = \")\n",
    "y = input(\"  y = \")\n",
    "\n",
    "x = float(x)\n",
    "y = float(y)\n",
    "\n",
    "r = (x**2 + y**2)**0.5\n",
    "theta = atan(y/x)\n",
    "\n",
    "print(\"Polar Coordinates:\")\n",
    "print(\"  r =\",r)\n",
    "print(\"  theta =\",theta)\n",
    "\n"
   ]
  },
  {
   "cell_type": "markdown",
   "metadata": {},
   "source": [
    "# Special Relativity\n",
    "\n",
    "(Adapted from textbook exercise 2.4)\n",
    "\n",
    "A spaceship travels from Earth in a straight line at relativistic speed $v$ to another planet $x$ light years away.  Write a function that takes the value of $x$ and the speed $v$ as a fraction of the speed of light $c$, then prints out the time in years that the spaceship takes to reach its destination (a) in the rest frame of an observer on Earth and (b) as perceived by a passenger on board the ship. See https://en.wikipedia.org/wiki/Time_dilation for the relevant equations.\n",
    "\n",
    "Use your program to calculate the answers for a planet 10 light years away with $v=0.99c$."
   ]
  },
  {
   "cell_type": "code",
   "execution_count": 5,
   "metadata": {
    "collapsed": true
   },
   "outputs": [],
   "source": [
    "%reset -f"
   ]
  },
  {
   "cell_type": "code",
   "execution_count": 6,
   "metadata": {},
   "outputs": [
    {
     "name": "stdout",
     "output_type": "stream",
     "text": [
      "In the frame of the spaceship, the journey takes 1.4249228262288782 years.\n",
      "In the frame of the earthling, the journey takes 10.1010101010101 years.\n"
     ]
    }
   ],
   "source": [
    "def time_dilation(x,v):\n",
    "    \"\"\" This function calculates the time in years it takes a space ship to travel \n",
    "    a distance x in lightyears at speed v as a fraction of c\n",
    "    in the reference frames of the ship and an observer on earth\"\"\"\n",
    "\n",
    "    c = 3.00e8                 #speed of light in m/s\n",
    "    g = 1/((1-v**2)**0.5)      #lorentz factor gamma \n",
    "    \n",
    "    t_earth = x/v\n",
    "    t_ship = x/(v*g)\n",
    "\n",
    "    print(\"In the frame of the spaceship, the journey takes\",t_ship,\"years.\")\n",
    "    print(\"In the frame of the earthling, the journey takes\",t_earth,\"years.\")\n",
    "\n",
    "time_dilation(10,0.99)"
   ]
  },
  {
   "cell_type": "markdown",
   "metadata": {},
   "source": [
    "# Planetary orbits\n",
    "\n",
    "(Adapted from textbook exercise 2.6)\n",
    "\n",
    "The orbit in space of one body around another, such as a planet around the Sun, need not be circular. In general it takes the form of an ellipse, with the body sometimes closer in and sometimes further out. If you are given the distance $\\ell_1$ of closest approach that a planet makes to the Sun, also called its *perihelion*, and its linear velocity $v_1$ at perihelion, then any other property of the orbit can be calculated from these two as follows:\n",
    "\n",
    "Kepler's second law tells us that the distance $\\ell_2$ and velocity $v_2$ of the planet at its most distant point, or *aphelion*, satisfy $\\ell_2 v_2 = \\ell_1 v_1$. At the same time the total energy, kinetic plus gravitational, of a planet with velocity $v$ and distance $r$ from the Sun is given by\n",
    "$$E = \\tfrac12 m v^2 - G {mM\\over r}\\,,$$\n",
    "where $m$ is the planet's mass, $M=1.9891\\times10^{30}$ kg is the mass of the sun, and $G=6.6738\\times10^{-11}$ m$^3$kg$^{-1}$s$^{-2}$ is Newton's gravitational constant. Given that energy must be conserved, it turns out that $v_2$ is the smaller root of the quadratic equation\n",
    "$$v_2^2 - {2GM\\over v_1\\ell_1} v_2 - \\biggl[ v_1^2 - {2GM\\over\\ell_1}\\biggr] = 0\\,.$$\n",
    "Once we have $v_2$ we can calculate $\\ell_2$ using the relation $\\ell_2 = \\ell_1 v_1/v_2$.\n",
    "\n",
    "Given the values of $v_1$, $\\ell_1$, and $\\ell_2$, other parameters of the orbit are given by simple formulas can that be derived from Kepler's laws and the fact that the orbit is an ellipse:\n",
    "\n",
    ">Semi-major axis: $a = \\tfrac12(\\ell_1+\\ell_2)\\,,$\n",
    "\n",
    ">Semi-minor axis: $b = \\sqrt{\\ell_1\\ell_2}\\,,$\n",
    "\n",
    ">Orbital period: $T = {2\\pi ab\\over\\ell_1 v_1}\\,,$\n",
    "\n",
    ">Orbital eccentricity: $e = {\\ell_2-\\ell_1\\over\\ell_2+\\ell_1}\\,.$\n",
    "\n",
    "Write a function that takes as input the distance to the sun and velocity at perihelion, then calculates and prints the quantities $a$, $b$, $\\ell_2$, $v_2$, $T$, and $e$."
   ]
  },
  {
   "cell_type": "code",
   "execution_count": 7,
   "metadata": {
    "collapsed": true
   },
   "outputs": [],
   "source": [
    "%reset -f"
   ]
  },
  {
   "cell_type": "code",
   "execution_count": 8,
   "metadata": {
    "collapsed": true
   },
   "outputs": [],
   "source": [
    "from math import sqrt,pi\n",
    "\n",
    "def quadratic_equation(a,b,c):\n",
    "    r1 = (-b + sqrt(b**2-4*a*c))/(2*a)\n",
    "    r2 = (-b - sqrt(b**2-4*a*c))/(2*a)\n",
    "    return(r1,r2)\n",
    "\n",
    "def orbit_properties(L1,v1):\n",
    "    \"\"\"This function takes distance from the sun L1 in m \n",
    "    and velocity v1 in m/s at the perihelion,\n",
    "    and uses them to calculate the properties of its orbit.\"\"\"\n",
    "    \n",
    "    M = 1.9891e30  #mass of sun in kg\n",
    "    G = 6.6738e-11 #Newton's gravitational constant in m^3/(kg*s^2)\n",
    "    \n",
    "    roots = quadratic_equation(1,-2*G*M/(v1*L1),-1*(v1**2-2*G*M/L1))\n",
    "    v2 = min(roots) #velocity at aphelion\n",
    "    L2 = L1*v1/v2   #distance from sun at aphelion\n",
    "    \n",
    "    a = 0.5*(L1+L2) #semi-major axis of orbit\n",
    "    b = sqrt(L1*L2) #semi-minor axis of orbit\n",
    "    \n",
    "    T = (2*pi*a*b)/(L1*v1) #orbital period in seconds\n",
    "    T = T*3.17098e-8       #convert orbital period to years\n",
    "    e = (L2-L1)/(L2+L1)    #orbital eccentricity\n",
    "    \n",
    "    print(\"Perihelion:\\n\\tL1 =\",L1,\"m\\n\\tv1 =\",v1,\"m/s\")\n",
    "    print(\"Aphelion:\\n\\tL2 =\",L2,\"m\\n\\tv1 =\",v2,\"m/s\")\n",
    "    print(\"Semi-major axis:\\n\\ta =\",a,\"m\")\n",
    "    print(\"Semi-minor axis:\\n\\tb =\",b,\"m\")\n",
    "    print(\"Orbital period:\\n\\tT =\",T,\"years\")\n",
    "    print(\"Orbital eccentricity:\\n\\te =\",e)"
   ]
  },
  {
   "cell_type": "markdown",
   "metadata": {},
   "source": [
    "Test your function by having it print the properties of the orbits of the Earth (for which $\\ell_1=1.4710\\times10^{11}$ m and $v_1=3.0287\\times10^4$ m/s) and Halley's comet   ($\\ell_1=8.7830\\times10^{10}$ m and $v_1=5.4529\\times10^4$ m/s). Among other things, you should find that the orbital period of the Earth is one year and that of Halley's comet is about 76 years."
   ]
  },
  {
   "cell_type": "code",
   "execution_count": 9,
   "metadata": {},
   "outputs": [
    {
     "name": "stdout",
     "output_type": "stream",
     "text": [
      "**********EARTH*********\n",
      "\n",
      "Perihelion:\n",
      "\tL1 = 147100000000.0 m\n",
      "\tv1 = 30287.0 m/s\n",
      "Aphelion:\n",
      "\tL2 = 152027197208.65994 m\n",
      "\tv1 = 29305.39917726127 m/s\n",
      "Semi-major axis:\n",
      "\ta = 149563598604.32996 m\n",
      "Semi-minor axis:\n",
      "\tb = 149543307136.74176 m\n",
      "Orbital period:\n",
      "\tT = 1.0002241305800528 years\n",
      "Orbital eccentricity:\n",
      "\te = 0.01647191313474219\n",
      "\n",
      "\n",
      "*****HALLEY'S COMET*****\n",
      "\n",
      "Perihelion:\n",
      "\tL1 = 87830000000.0 m\n",
      "\tv1 = 54529.0 m/s\n",
      "Aphelion:\n",
      "\tL2 = 5282214660876.441 m\n",
      "\tv1 = 906.6806969191493 m/s\n",
      "Semi-major axis:\n",
      "\ta = 2685022330438.2207 m\n",
      "Semi-minor axis:\n",
      "\tb = 681129146098.431 m\n",
      "Orbital period:\n",
      "\tT = 76.08171988810854 years\n",
      "Orbital eccentricity:\n",
      "\te = 0.9672889126454061\n"
     ]
    }
   ],
   "source": [
    "#Earth\n",
    "print(\"**********EARTH*********\\n\")\n",
    "orbit_properties(1.4710e11,3.0287e4)\n",
    "\n",
    "#Halley's Comet\n",
    "print(\"\\n\\n*****HALLEY'S COMET*****\\n\")\n",
    "orbit_properties(8.7830e10,5.4529e4)"
   ]
  }
 ],
 "metadata": {
  "kernelspec": {
   "display_name": "Python 3",
   "language": "python",
   "name": "python3"
  },
  "language_info": {
   "codemirror_mode": {
    "name": "ipython",
    "version": 3
   },
   "file_extension": ".py",
   "mimetype": "text/x-python",
   "name": "python",
   "nbconvert_exporter": "python",
   "pygments_lexer": "ipython3",
   "version": "3.6.1"
  }
 },
 "nbformat": 4,
 "nbformat_minor": 2
}
