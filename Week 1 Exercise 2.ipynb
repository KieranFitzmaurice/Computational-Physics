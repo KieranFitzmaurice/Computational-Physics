{
 "cells": [
  {
   "cell_type": "markdown",
   "metadata": {},
   "source": [
    "Your Name: Kieran Fitzmaurice"
   ]
  },
  {
   "cell_type": "markdown",
   "metadata": {},
   "source": [
    "The [Name Game](https://en.wikipedia.org/wiki/The_Name_Game) is a popular kid's song best explain by way of example. For my name, Dave, the Name Game song goes:\n",
    "\n",
    ">Dave, Dave, bo-bave<br>\n",
    "Banana-fana fo-fave<br>\n",
    "Fee-fy-mo mave<br>\n",
    "Dave!\n",
    "\n",
    "Your task is to write a function that takes a name and prints the Name Game song for it. See the link above for the rules that govern names that start with \"B\", \"F\", \"M\", or a vowel.\n",
    "\n",
    "You may assume that your input will start with a capital letter."
   ]
  },
  {
   "cell_type": "code",
   "execution_count": 1,
   "metadata": {
    "collapsed": true
   },
   "outputs": [],
   "source": [
    "def name_game(name):\n",
    "    \n",
    "    #**********Determine which procedure name requires**********#\n",
    "    \n",
    "    vowels = \"AEIOU\" \n",
    "    special = \"BFM\"  \n",
    "    case = 0\n",
    "    \n",
    "    # Check if name starts with a vowel rather than consonant\n",
    "    for letter in vowels: \n",
    "        if letter == name[0]:\n",
    "            case = 2\n",
    "            break\n",
    "    \n",
    "    # Check if name starts with letter requiring special case\n",
    "    if case == 0:\n",
    "        for letter in special: \n",
    "            if letter == name[0]:\n",
    "                case = letter\n",
    "                break\n",
    "    if case == 0:\n",
    "        case = 1\n",
    "        \n",
    "    #***********************Play Name Game**********************#\n",
    "    s = len(name)\n",
    "    \n",
    "    if case == 1: # Default case for standard names\n",
    "        n1 = 'B' + name[1:s]\n",
    "        n2 = 'F' + name[1:s]\n",
    "        n3 = 'M' + name[1:s]\n",
    "        \n",
    "    elif case == 2: # Names that begin with vowels\n",
    "        n1 = 'B' + name.lower()\n",
    "        n2 = 'F' + name.lower()\n",
    "        n3 = 'M' + name.lower()\n",
    "        \n",
    "    elif case == 'B': # Names that require special case\n",
    "        n1 = name[1].upper() + name[2:s]\n",
    "        n2 = 'F' + name[1:s]\n",
    "        n3 = 'M' + name[1:s]\n",
    "    elif case == 'F':\n",
    "        n1 = 'B' + name[1:s]\n",
    "        n2 =  name[1].upper() + name[2:s]\n",
    "        n3 = 'M' + name[1:s]\n",
    "    elif case == 'M':\n",
    "        n1 = 'B' + name[1:s]\n",
    "        n2 = 'F' + name[1:s]\n",
    "        n3 = name[1].upper() + name[2:s]\n",
    "    \n",
    "    #***********************Sing Name Game**********************#\n",
    "    \n",
    "    print(name + \", \" + name + \", bo-\" + n1)\n",
    "    print(\"Banana-fana fo-\" + n2)\n",
    "    print(\"Fee-fy-mo-\" + n3)\n",
    "    print(name + \"!\")\n",
    "        \n",
    "        \n",
    "    "
   ]
  },
  {
   "cell_type": "markdown",
   "metadata": {},
   "source": [
    "Use the following to test some of the special cases:"
   ]
  },
  {
   "cell_type": "code",
   "execution_count": 2,
   "metadata": {},
   "outputs": [
    {
     "name": "stdout",
     "output_type": "stream",
     "text": [
      "Aidan, Aidan, bo-Baidan\n",
      "Banana-fana fo-Faidan\n",
      "Fee-fy-mo-Maidan\n",
      "Aidan!\n"
     ]
    }
   ],
   "source": [
    "name_game(\"Aidan\")\n"
   ]
  },
  {
   "cell_type": "code",
   "execution_count": 3,
   "metadata": {},
   "outputs": [
    {
     "name": "stdout",
     "output_type": "stream",
     "text": [
      "Beth, Beth, bo-Eth\n",
      "Banana-fana fo-Feth\n",
      "Fee-fy-mo-Meth\n",
      "Beth!\n"
     ]
    }
   ],
   "source": [
    "name_game(\"Beth\")\n",
    "#Beth, Beth, bo-eth\n",
    "#Banana-fana fo-feth\n",
    "#Fee-fy-mo-meth\n",
    "#Beth!"
   ]
  },
  {
   "cell_type": "code",
   "execution_count": 4,
   "metadata": {},
   "outputs": [
    {
     "name": "stdout",
     "output_type": "stream",
     "text": [
      "Frank, Frank, bo-Brank\n",
      "Banana-fana fo-Rank\n",
      "Fee-fy-mo-Mrank\n",
      "Frank!\n"
     ]
    }
   ],
   "source": [
    "name_game(\"Frank\")\n",
    "#Frank, Frank, bo-brank\n",
    "#Banan-fana fo-rank\n",
    "#Fee-fy-mo-mrank\n",
    "#Frank!"
   ]
  },
  {
   "cell_type": "code",
   "execution_count": 5,
   "metadata": {},
   "outputs": [
    {
     "name": "stdout",
     "output_type": "stream",
     "text": [
      "Mary, Mary, bo-Bary\n",
      "Banana-fana fo-Fary\n",
      "Fee-fy-mo-Ary\n",
      "Mary!\n"
     ]
    }
   ],
   "source": [
    "name_game(\"Mary\")\n",
    "#Mary, Mary, bo-bary\n",
    "#Banana-fana fo-fary\n",
    "#Fee-fy-mo-ary\n",
    "#Mary!"
   ]
  },
  {
   "cell_type": "code",
   "execution_count": 6,
   "metadata": {},
   "outputs": [
    {
     "name": "stdout",
     "output_type": "stream",
     "text": [
      "Kieran, Kieran, bo-Bieran\n",
      "Banana-fana fo-Fieran\n",
      "Fee-fy-mo-Mieran\n",
      "Kieran!\n"
     ]
    }
   ],
   "source": [
    "name_game(\"Kieran\")"
   ]
  }
 ],
 "metadata": {
  "kernelspec": {
   "display_name": "Python 3",
   "language": "python",
   "name": "python3"
  },
  "language_info": {
   "codemirror_mode": {
    "name": "ipython",
    "version": 3
   },
   "file_extension": ".py",
   "mimetype": "text/x-python",
   "name": "python",
   "nbconvert_exporter": "python",
   "pygments_lexer": "ipython3",
   "version": "3.6.1"
  }
 },
 "nbformat": 4,
 "nbformat_minor": 2
}
