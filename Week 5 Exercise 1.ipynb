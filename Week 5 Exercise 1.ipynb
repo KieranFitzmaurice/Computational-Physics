{
 "cells": [
  {
   "cell_type": "markdown",
   "metadata": {},
   "source": [
    "Your Name: Kieran Fitzmaurice"
   ]
  },
  {
   "cell_type": "markdown",
   "metadata": {},
   "source": [
    "Many probabilistic systems with discrete states can be simulated with random numbers. As an analogy for these systems, let's look at the more familiar 6-sided die.\n",
    "\n",
    "If you roll a single 6-sided die, the result is a uniform distribution of values from 1 to 6. If you roll two dice and sum them, you get values from 2 to 12, with 7 being the most likely, etc. In general, the behavior of any number of dice is well described by the [binormal distribution](https://en.wikipedia.org/wiki/Binomial_distribution).\n",
    "\n",
    "But, what happens if we modify these rules? Suppose that if a die rolls 6, we get to re-roll it and add the second result to the first. If we roll a second 6, we add it and then roll the die again, and so on. For example, we could roll 6+6+6+2 for a total of 20 on a single die. In principle, there is no limit to how high a number we could roll using this scheme (although large values become increasingly unlikely). Let's call this an \"opened-ended die\" If we repeat this procedure with multiple open-ended dice, we should get something resembling a distorted binomial distribution.\n",
    "\n",
    "Write a program that \"rolls\" $N$ open-ended dice and sums the total value rolled, with this process repeated $M$ times, where $N$ and $M$ are both selected using widgets from `ipywidgets`. Let $N$ range from 1 to 20 dice, and let $M$ range from 100 to 10000 trials (in steps of 100).\n",
    "\n",
    "Plot the resulting distribution as a bar chart, with the y-axis of your chart showing the **probability** that the sum has a given value. For example, if a value has a probability of 0.2, that means means that there is a 20% chance of rolling that value. Put another way, changing the value of $M$ should not change the vertical scale of your chart. It should only affect the amount of noise."
   ]
  },
  {
   "cell_type": "code",
   "execution_count": 1,
   "metadata": {},
   "outputs": [
    {
     "data": {
      "application/vnd.jupyter.widget-view+json": {
       "model_id": "8eb94fb2fc0b40bfa83899acf68752cb"
      }
     },
     "metadata": {},
     "output_type": "display_data"
    }
   ],
   "source": [
    "import numpy as np\n",
    "import matplotlib.pyplot as plt\n",
    "import ipywidgets as wgt\n",
    "\n",
    "N_slider = wgt.IntSlider(description = \"N = \", min=1, max=20, step=1, value=1)\n",
    "M_slider = wgt.IntSlider(description = \"M = \", min=100, max = 10000, step=1, value = 100)\n",
    "\n",
    "@wgt.interact(N = N_slider, M = M_slider)\n",
    "def prob_dist(N,M):\n",
    "    \n",
    "    Sums = np.zeros(M)\n",
    "    \n",
    "    for i in range(0,M):\n",
    "        S = 0;\n",
    "        n = N;\n",
    "        \n",
    "        while(n > 0):\n",
    "            dice = np.random.randint(1,7,n)\n",
    "            S = S + np.sum(dice)\n",
    "            n = np.sum(dice == 6)\n",
    "            \n",
    "        Sums[i] = S\n",
    "        \n",
    "    hist, bin_edges = np.histogram(Sums, bins = \"auto\", density=True)\n",
    "    plt.bar(bin_edges[:-1], hist, align = 'edge', width = bin_edges[1] - bin_edges[0])\n",
    "    plt.xlabel(\"Sum of Dice\")\n",
    "    plt.ylabel(\"Probability Density\")\n",
    "    \n",
    "    plt.show()\n",
    "    \n"
   ]
  },
  {
   "cell_type": "markdown",
   "metadata": {},
   "source": [
    "As it turns out, a normal (Gaussian) distribution is a decent fit for multiple open-ended dice, while the binomial distribution is rather poor. Modify your program to fit the normal distribution to your dice rolls using `scipy.curve_fit`. The normal distribution is given by\n",
    "$$P(x) =  \\frac{1}{\\sqrt{2\\pi\\sigma^2}}\\exp\\Bigg(\\frac{(x-\\mu)^2}{2\\sigma^2}\\Bigg)\\,,$$\n",
    "where $\\mu$ is the mean and $\\sigma$ is the standard deviation.\n",
    "\n",
    "Plot your best fit distribution on top of your bar chart, and print out the best-fit value of $\\mu$ (the average total you'd expect to roll given $N$ open-ended dice). Your plot should still be interactive like it was in the first part.\n",
    "\n",
    "Note: You may need to supply an initial guess for $\\mu$ and $\\sigma$ or else `curve_fit` may not converge."
   ]
  },
  {
   "cell_type": "code",
   "execution_count": 2,
   "metadata": {},
   "outputs": [
    {
     "data": {
      "application/vnd.jupyter.widget-view+json": {
       "model_id": "f7ddb3aa51db44369320a128255bf863"
      }
     },
     "metadata": {},
     "output_type": "display_data"
    }
   ],
   "source": [
    "import numpy as np\n",
    "import matplotlib.pyplot as plt\n",
    "import ipywidgets as wgt\n",
    "from scipy.optimize import curve_fit\n",
    "\n",
    "N_slider = wgt.IntSlider(description = \"N = \", min=1, max=20, step=1, value=20)\n",
    "M_slider = wgt.IntSlider(description = \"M = \", min=100, max = 10000, step=1, value = 10000)\n",
    "\n",
    "@wgt.interact(N = N_slider, M = M_slider)\n",
    "def prob_dist(N,M):\n",
    "    \n",
    "    Sums = np.zeros(M)\n",
    "    \n",
    "    for i in range(0,M):\n",
    "        S = 0;\n",
    "        n = N;\n",
    "        \n",
    "        while(n > 0):\n",
    "            dice = np.random.randint(1,7,n)\n",
    "            S = S + np.sum(dice)\n",
    "            n = np.sum(dice == 6)\n",
    "            \n",
    "        Sums[i] = S\n",
    "        \n",
    "    hist, bin_edges = np.histogram(Sums, bins = \"auto\", density=True)\n",
    "    bin_centers = (bin_edges[1:] + bin_edges[:-1]) / 2\n",
    "    \n",
    "    \n",
    "    meu_guess = np.mean(bin_centers)\n",
    "    sigma_guess = np.std(bin_centers)\n",
    "    \n",
    "    def fit(x,sigma,meu):\n",
    "        f = 1/(np.sqrt(2*np.pi*sigma**2))*np.exp(-1*((x-meu)**2/(2*sigma**2)))\n",
    "        return(f)\n",
    "    \n",
    "    popt, pcov = curve_fit(fit, bin_centers, hist, p0=(meu_guess,sigma_guess))\n",
    "    sigma_fit, meu_fit = popt\n",
    "    \n",
    "    plt.bar(bin_edges[:-1], hist, align = 'edge', width = bin_edges[1] - bin_edges[0])\n",
    "    \n",
    "    min_x,max_x = plt.gca().get_xlim()\n",
    "    lotsx = np.linspace(min_x,max_x,300)\n",
    "    lotsy = fit(lotsx,sigma_fit,meu_fit)\n",
    "    \n",
    "    plt.plot(lotsx,lotsy,'r-')\n",
    "    plt.axis(xmin = min_x,xmax = max_x)\n",
    "    plt.title(\"Dice Game\")\n",
    "    plt.xlabel(\"Sum of dice\")\n",
    "    plt.ylabel(\"Probability Density\")\n",
    "    plt.show()\n",
    "    \n",
    "    print(\"Sigma = %lf, Meu = %lf\" % (sigma_fit, meu_fit))"
   ]
  },
  {
   "cell_type": "code",
   "execution_count": null,
   "metadata": {
    "collapsed": true
   },
   "outputs": [],
   "source": []
  }
 ],
 "metadata": {
  "kernelspec": {
   "display_name": "Python 3",
   "language": "python",
   "name": "python3"
  },
  "language_info": {
   "codemirror_mode": {
    "name": "ipython",
    "version": 3
   },
   "file_extension": ".py",
   "mimetype": "text/x-python",
   "name": "python",
   "nbconvert_exporter": "python",
   "pygments_lexer": "ipython3",
   "version": "3.6.1"
  }
 },
 "nbformat": 4,
 "nbformat_minor": 2
}
